{
 "cells": [
  {
   "cell_type": "code",
   "execution_count": null,
   "metadata": {},
   "outputs": [
    {
     "name": "stdout",
     "output_type": "stream",
     "text": [
      "Database 'employee_data.db' and table 'employees' created successfully!\n"
     ]
    }
   ],
   "source": [
    "# TO CREATE A DATABASE AND A TABLE (EMPLOYEE)\n",
    "\n",
    "import sqlite3\n",
    "\n",
    "# Database name\n",
    "db_name = \"employee_data.db\"\n",
    "\n",
    "# Connect to the SQLite database (or create it if it doesn't exist)\n",
    "conn = sqlite3.connect(db_name)\n",
    "\n",
    "# Create a cursor object to execute SQL commands\n",
    "cursor = conn.cursor()\n",
    "\n",
    "# SQL command to create the \"employees\" table\n",
    "create_table_query = \"\"\"\n",
    "CREATE TABLE IF NOT EXISTS employees (\n",
    "    employee_id INTEGER PRIMARY KEY, \n",
    "    name TEXT NOT NULL, \n",
    "    job_title TEXT NOT NULL, \n",
    "    image BLOB\n",
    ");\n",
    "\"\"\"\n",
    "\n",
    "# Execute the SQL command\n",
    "cursor.execute(create_table_query)\n",
    "\n",
    "# Commit changes and close the connection\n",
    "conn.commit()\n",
    "conn.close()\n",
    "\n",
    "print(f\"Database '{db_name}' and table 'employees' created successfully!\")\n"
   ]
  },
  {
   "cell_type": "code",
   "execution_count": 4,
   "metadata": {},
   "outputs": [
    {
     "name": "stdout",
     "output_type": "stream",
     "text": [
      "Record inserted successfully!\n"
     ]
    },
    {
     "name": "stderr",
     "output_type": "stream",
     "text": [
      "<>:14: SyntaxWarning: invalid escape sequence '\\K'\n",
      "<>:14: SyntaxWarning: invalid escape sequence '\\K'\n",
      "C:\\Users\\Karan\\AppData\\Local\\Temp\\ipykernel_1240\\2037673444.py:14: SyntaxWarning: invalid escape sequence '\\K'\n",
      "  image_path = \"images\\Karan_R_Nair.jpg\"\n"
     ]
    }
   ],
   "source": [
    "# TO ADD NEW ENTRIES OF EMPLOYEES\n",
    "\n",
    "import sqlite3\n",
    "\n",
    "# Database name\n",
    "db_name = \"employee_data.db\"\n",
    "\n",
    "# Sample data to insert\n",
    "employee_id = 1001\n",
    "name = \"Karan R Nair\"\n",
    "job_title = \"Chief Executive Officer\"\n",
    "\n",
    "# Path to the image file (optional)\n",
    "image_path = \"images\\Karan_R_Nair.jpg\"\n",
    "\n",
    "# Function to read image file and convert to binary\n",
    "def read_image(file_path):\n",
    "    try:\n",
    "        with open(file_path, \"rb\") as file:\n",
    "            return file.read()\n",
    "    except FileNotFoundError:\n",
    "        print(\"Image file not found.\")\n",
    "        return None\n",
    "\n",
    "# Convert image to binary data\n",
    "image_data = read_image(image_path)\n",
    "\n",
    "# Connect to the SQLite database\n",
    "conn = sqlite3.connect(db_name)\n",
    "\n",
    "# Create a cursor object\n",
    "cursor = conn.cursor()\n",
    "\n",
    "# SQL query to insert data into the \"employees\" table\n",
    "insert_query = \"\"\"\n",
    "INSERT INTO employees (employee_id, name, job_title, image)\n",
    "VALUES (?, ?, ?, ?);\n",
    "\"\"\"\n",
    "\n",
    "# Execute the SQL query\n",
    "try:\n",
    "    cursor.execute(insert_query, (employee_id, name, job_title, image_data))\n",
    "    conn.commit()  # Commit the transaction\n",
    "    print(\"Record inserted successfully!\")\n",
    "except sqlite3.IntegrityError:\n",
    "    print(\"Error: Employee ID already exists.\")\n",
    "except Exception as e:\n",
    "    print(f\"An error occurred: {e}\")\n",
    "\n",
    "# Close the connection\n",
    "conn.close()\n"
   ]
  },
  {
   "cell_type": "code",
   "execution_count": 5,
   "metadata": {},
   "outputs": [
    {
     "name": "stdout",
     "output_type": "stream",
     "text": [
      "Employee ID     Name                      Job Title                 Image     \n",
      "--------------------------------------------------------------------------------\n",
      "1001            Karan R Nair              Chief Executive Officer   Yes       \n",
      "1002            Aartish                   Managing Director         Yes       \n",
      "1003            Hannah Sebastian          Data Analyst              Yes       \n",
      "1004            Don_Jos                   Assistant Manager         Yes       \n"
     ]
    }
   ],
   "source": [
    "# TO SHOW CONTENTS OF A TABLE\n",
    "\n",
    "import sqlite3\n",
    "\n",
    "# Database name\n",
    "db_name = \"employee_data.db\"\n",
    "\n",
    "# Connect to the SQLite database\n",
    "conn = sqlite3.connect(db_name)\n",
    "\n",
    "# Create a cursor object\n",
    "cursor = conn.cursor()\n",
    "\n",
    "# SQL query to select all records from the \"employees\" table\n",
    "select_query = \"SELECT employee_id, name, job_title, image FROM employees;\"\n",
    "\n",
    "try:\n",
    "    # Execute the query\n",
    "    cursor.execute(select_query)\n",
    "\n",
    "    # Fetch all rows\n",
    "    rows = cursor.fetchall()\n",
    "\n",
    "    # Check if the table has data\n",
    "    if rows:\n",
    "        # Print column headers\n",
    "        print(f\"{'Employee ID':<15} {'Name':<25} {'Job Title':<25} {'Image':<10}\")\n",
    "        print(\"-\" * 80)\n",
    "\n",
    "        # Iterate through rows and print the data\n",
    "        for row in rows:\n",
    "            employee_id, name, job_title, image = row\n",
    "            image_status = \"Yes\" if image else \"No\"  # Check if an image is stored\n",
    "            print(f\"{employee_id:<15} {name:<25} {job_title:<25} {image_status:<10}\")\n",
    "    else:\n",
    "        print(\"No data found in the table.\")\n",
    "\n",
    "except Exception as e:\n",
    "    print(f\"An error occurred: {e}\")\n",
    "\n",
    "# Close the connection\n",
    "conn.close()\n"
   ]
  },
  {
   "cell_type": "code",
   "execution_count": null,
   "metadata": {},
   "outputs": [
    {
     "name": "stdout",
     "output_type": "stream",
     "text": [
      "Tables in the database: [('employees',)]\n"
     ]
    }
   ],
   "source": [
    "# TO KNOW IF THE TABLE EXISTS OR NOT\n",
    "\n",
    "import sqlite3\n",
    "\n",
    "db_name = \"employee_data.db\"\n",
    "\n",
    "# Connect to the database\n",
    "conn = sqlite3.connect(db_name)\n",
    "cursor = conn.cursor()\n",
    "\n",
    "# Query to list all tables\n",
    "cursor.execute(\"SELECT name FROM sqlite_master WHERE type='table';\")\n",
    "tables = cursor.fetchall()\n",
    "\n",
    "# Print tables\n",
    "if tables:\n",
    "    print(\"Tables in the database:\", tables)\n",
    "else:\n",
    "    print(\"No tables found in the database.\")\n",
    "\n",
    "conn.close()\n"
   ]
  },
  {
   "cell_type": "code",
   "execution_count": 3,
   "metadata": {},
   "outputs": [
    {
     "name": "stdout",
     "output_type": "stream",
     "text": [
      "Employee with ID 1001 deleted successfully.\n"
     ]
    }
   ],
   "source": [
    "# TO DELETE A DATA FROM THE TABLE USING EMPLOYEE IDS\n",
    "\n",
    "import sqlite3\n",
    "\n",
    "# Database name\n",
    "db_name = \"employee_data.db\"\n",
    "\n",
    "# Function to delete an employee by ID\n",
    "def delete_employee(employee_id):\n",
    "    try:\n",
    "        # Connect to the SQLite database\n",
    "        conn = sqlite3.connect(db_name)\n",
    "        cursor = conn.cursor()\n",
    "        \n",
    "        # SQL command to delete an employee\n",
    "        delete_query = \"DELETE FROM employees WHERE employee_id = ?;\"\n",
    "        \n",
    "        # Execute the SQL command with the provided employee_id\n",
    "        cursor.execute(delete_query, (employee_id,))\n",
    "        \n",
    "        # Commit the changes\n",
    "        conn.commit()\n",
    "        \n",
    "        # Check if the employee was deleted\n",
    "        if cursor.rowcount > 0:\n",
    "            print(f\"Employee with ID {employee_id} deleted successfully.\")\n",
    "        else:\n",
    "            print(f\"No employee found with ID {employee_id}.\")\n",
    "    \n",
    "    except sqlite3.Error as e:\n",
    "        print(f\"Error while deleting employee: {e}\")\n",
    "    \n",
    "    finally:\n",
    "        # Close the connection\n",
    "        if conn:\n",
    "            conn.close()\n",
    "\n",
    "# Example usage\n",
    "employee_id_to_delete =1001   # Replace with the ID of the employee you want to delete\n",
    "delete_employee(employee_id_to_delete)\n"
   ]
  }
 ],
 "metadata": {
  "kernelspec": {
   "display_name": "Python 3",
   "language": "python",
   "name": "python3"
  },
  "language_info": {
   "codemirror_mode": {
    "name": "ipython",
    "version": 3
   },
   "file_extension": ".py",
   "mimetype": "text/x-python",
   "name": "python",
   "nbconvert_exporter": "python",
   "pygments_lexer": "ipython3",
   "version": "3.12.3"
  }
 },
 "nbformat": 4,
 "nbformat_minor": 2
}
